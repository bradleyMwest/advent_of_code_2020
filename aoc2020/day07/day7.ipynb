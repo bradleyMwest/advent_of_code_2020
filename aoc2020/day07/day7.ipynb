{
 "cells": [
  {
   "cell_type": "code",
   "execution_count": 17,
   "metadata": {},
   "outputs": [],
   "source": [
    "import re\n",
    "\n",
    "class bag_rules:\n",
    "    def __init__(self, your_bag_color, input_file='test.txt', verbose=False):\n",
    "        self.your_bag_color = your_bag_color\n",
    "        self.input_file = input_file\n",
    "        self.verbose = verbose\n",
    "        self.read_file()\n",
    "        self.parse_file()\n",
    "\n",
    "    def read_file(self):\n",
    "        with open(self.input_file, 'r') as f:\n",
    "            self.rules = f.read().splitlines()\n",
    "    \n",
    "    def parse_file(self):\n",
    "        bags = {}\n",
    "        for rule in self.rules:\n",
    "            results = [x.group().strip() for x in re.finditer('(^.+?(?=bag))|(?=(\\d))(.*?)(?=bag)', rule)]\n",
    "            main_bag = results.pop(0)\n",
    "            if main_bag not in bags.keys():\n",
    "                bags[main_bag] = {}\n",
    "            for result in results:\n",
    "                a = [x.group().strip() for x in re.finditer('(^[0-9]+)|([a-z ]+)', result)]\n",
    "                a[0] = int(a[0])\n",
    "                bags[main_bag][a[1]] = a[0]\n",
    "        self.bags = bags\n",
    "    \n",
    "    def check_contents(self, dictionary):\n",
    "        return 1 if self.your_bag_color in dictionary.keys() else 0\n",
    "    \n",
    "    def check_sub_bags(self, d):        \n",
    "        if  self.valid == 1:#or self.iterator >= len(self.bags.keys()):\n",
    "            self.done = True\n",
    "            return \n",
    "        \n",
    "        for key in d.keys():\n",
    "            if self.done: continue\n",
    "            self.iterator += 1\n",
    "            self.valid = max(self.check_contents(self.bags[key]), self.valid)\n",
    "            if self.verbose: print(f\"\\tKEY={key}; VALID={self.valid}; ITER={self.iterator}\")\n",
    "            if self.valid == 1:\n",
    "                self.done = True\n",
    "            else:\n",
    "                self.check_sub_bags(self.bags[key])\n",
    "            \n",
    "    \n",
    "    def count_bags(self):\n",
    "        n_outer_bags = 0\n",
    "        for key in self.bags.keys():\n",
    "            self.valid = 0\n",
    "            self.iterator = 0\n",
    "            self.done = False\n",
    "            \n",
    "            if key == self.your_bag_color: continue\n",
    "            self.valid = self.check_contents(self.bags[key])\n",
    "            \n",
    "            if self.verbose: print(f\"KEY={key}; VALID={self.valid};\")\n",
    "            while not self.done:\n",
    "                self.check_sub_bags(self.bags[key])\n",
    "                self.done=True\n",
    "            n_outer_bags += self.valid\n",
    "        return n_outer_bags\n",
    "    \n",
    "    def count_bags_part_2(self):\n",
    "        self.n_inner_bags = 0\n",
    "        for key in self.bags[self.your_bag_color]:\n",
    "            self.done = False\n",
    "            \n",
    "            self.valid = self.check_contents(self.bags[key])\n",
    "            \n",
    "            if self.verbose: print(f\"KEY={key}; VALID={self.valid};\")\n",
    "            while not self.done:\n",
    "                self.check_sub_bags(self.bags[key])\n",
    "                self.done=True\n",
    "            n_outer_bags += self.valid\n",
    "        return n_outer_bags"
   ]
  },
  {
   "cell_type": "code",
   "execution_count": 21,
   "metadata": {},
   "outputs": [
    {
     "name": "stdout",
     "output_type": "stream",
     "text": [
      "['light red bags contain 1 bright white bag, 2 muted yellow bags.', 'dark orange bags contain 3 bright white bags, 4 muted yellow bags.', 'bright white bags contain 1 shiny gold bag.', 'muted yellow bags contain 2 shiny gold bags, 9 faded blue bags.', 'shiny gold bags contain 1 dark olive bag, 2 vibrant plum bags.', 'dark olive bags contain 3 faded blue bags, 4 dotted black bags.', 'vibrant plum bags contain 5 faded blue bags, 6 dotted black bags.', 'faded blue bags contain no other bags.', 'dotted black bags contain no other bags.']\n",
      "\n",
      "{'light red': {'bright white': 1, 'muted yellow': 2}, 'dark orange': {'bright white': 3, 'muted yellow': 4}, 'bright white': {'shiny gold': 1}, 'muted yellow': {'shiny gold': 2, 'faded blue': 9}, 'shiny gold': {'dark olive': 1, 'vibrant plum': 2}, 'dark olive': {'faded blue': 3, 'dotted black': 4}, 'vibrant plum': {'faded blue': 5, 'dotted black': 6}, 'faded blue': {}, 'dotted black': {}}\n"
     ]
    },
    {
     "data": {
      "text/plain": [
       "4"
      ]
     },
     "execution_count": 21,
     "metadata": {},
     "output_type": "execute_result"
    }
   ],
   "source": [
    "b = bag_rules('shiny gold')\n",
    "print(b.rules)\n",
    "print()\n",
    "print(b.bags)\n",
    "len(b.bags.keys())\n",
    "b.count_bags()"
   ]
  },
  {
   "cell_type": "code",
   "execution_count": 22,
   "metadata": {},
   "outputs": [
    {
     "name": "stdout",
     "output_type": "stream",
     "text": [
      "['shiny gold bags contain 2 dark red bags.', 'dark red bags contain 2 dark orange bags.', 'dark orange bags contain 2 dark yellow bags.', 'dark yellow bags contain 2 dark green bags.', 'dark green bags contain 2 dark blue bags.', 'dark blue bags contain 2 dark violet bags.', 'dark violet bags contain no other bags.']\n",
      "\n",
      "{'dark red': 2}\n"
     ]
    },
    {
     "data": {
      "text/plain": [
       "0"
      ]
     },
     "execution_count": 22,
     "metadata": {},
     "output_type": "execute_result"
    }
   ],
   "source": [
    "b = bag_rules('shiny gold', input_file = 'test_02.txt')\n",
    "print(b.rules)\n",
    "print()\n",
    "print(b.bags['shiny gold'])\n",
    "len(b.bags.keys())\n",
    "b.count_bags()"
   ]
  },
  {
   "cell_type": "code",
   "execution_count": 59,
   "metadata": {},
   "outputs": [
    {
     "name": "stdout",
     "output_type": "stream",
     "text": [
      "dark red 2\n"
     ]
    },
    {
     "ename": "NameError",
     "evalue": "name 'bags' is not defined",
     "output_type": "error",
     "traceback": [
      "\u001b[0;31m---------------------------------------------------------------------------\u001b[0m",
      "\u001b[0;31mNameError\u001b[0m                                 Traceback (most recent call last)",
      "\u001b[0;32m<ipython-input-59-fa154b5de6c7>\u001b[0m in \u001b[0;36m<module>\u001b[0;34m\u001b[0m\n\u001b[1;32m      2\u001b[0m \u001b[0;32mfor\u001b[0m \u001b[0mkey\u001b[0m\u001b[0;34m,\u001b[0m \u001b[0mvalues\u001b[0m \u001b[0;32min\u001b[0m \u001b[0mb\u001b[0m\u001b[0;34m.\u001b[0m\u001b[0mbags\u001b[0m\u001b[0;34m[\u001b[0m\u001b[0;34m'shiny gold'\u001b[0m\u001b[0;34m]\u001b[0m\u001b[0;34m.\u001b[0m\u001b[0mitems\u001b[0m\u001b[0;34m(\u001b[0m\u001b[0;34m)\u001b[0m\u001b[0;34m:\u001b[0m\u001b[0;34m\u001b[0m\u001b[0;34m\u001b[0m\u001b[0m\n\u001b[1;32m      3\u001b[0m     \u001b[0mprint\u001b[0m\u001b[0;34m(\u001b[0m\u001b[0mkey\u001b[0m\u001b[0;34m,\u001b[0m \u001b[0mvalues\u001b[0m\u001b[0;34m)\u001b[0m\u001b[0;34m\u001b[0m\u001b[0;34m\u001b[0m\u001b[0m\n\u001b[0;32m----> 4\u001b[0;31m     \u001b[0mbags\u001b[0m\u001b[0;34m[\u001b[0m\u001b[0mkey\u001b[0m\u001b[0;34m]\u001b[0m\u001b[0;34m\u001b[0m\u001b[0;34m\u001b[0m\u001b[0m\n\u001b[0m",
      "\u001b[0;31mNameError\u001b[0m: name 'bags' is not defined"
     ]
    }
   ],
   "source": [
    "\n",
    "for key, values in b.bags['shiny gold'].items():\n",
    "    print(key, values)"
   ]
  },
  {
   "cell_type": "code",
   "execution_count": null,
   "metadata": {},
   "outputs": [],
   "source": [
    "# two components \n",
    "# first find from the beginning of the string to the first instance of bag\n",
    "# second find between each digit and the following bag\n",
    "pattern = '(^.+?(?=bag))|(?=(\\d))(.*?)(?=bag)' "
   ]
  },
  {
   "cell_type": "code",
   "execution_count": 63,
   "metadata": {},
   "outputs": [
    {
     "name": "stdout",
     "output_type": "stream",
     "text": [
      "Collecting anytree\n",
      "  Using cached https://artifactory.service.bo1.csnzoo.com/artifactory/api/pypi/pypi-mirror/packages/a8/65/be23d8c3ecd68d40541d49812cd94ed0f3ee37eb88669ca15df0e43daed1/anytree-2.8.0-py2.py3-none-any.whl\n",
      "Requirement already satisfied: six>=1.9.0 in /Users/bw245h/.pyenv/versions/3.6.5/envs/jupyter365/lib/python3.6/site-packages (from anytree)\n",
      "Installing collected packages: anytree\n",
      "Successfully installed anytree-2.8.0\n",
      "\u001b[33mYou are using pip version 9.0.3, however version 20.3 is available.\n",
      "You should consider upgrading via the 'pip install --upgrade pip' command.\u001b[0m\n"
     ]
    }
   ],
   "source": [
    "!pip install anytree"
   ]
  },
  {
   "cell_type": "code",
   "execution_count": 87,
   "metadata": {},
   "outputs": [
    {
     "name": "stdout",
     "output_type": "stream",
     "text": [
      "root\n",
      "├── shiny gold\n",
      "│   ├── dark red\n",
      "│   └── dark red\n",
      "├── dark red\n",
      "│   ├── dark orange\n",
      "│   └── dark orange\n",
      "├── dark orange\n",
      "│   ├── dark yellow\n",
      "│   └── dark yellow\n",
      "├── dark yellow\n",
      "│   ├── dark green\n",
      "│   └── dark green\n",
      "├── dark green\n",
      "│   ├── dark blue\n",
      "│   └── dark blue\n",
      "├── dark blue\n",
      "│   ├── dark violet\n",
      "│   └── dark violet\n",
      "└── dark violet\n"
     ]
    }
   ],
   "source": [
    "from anytree import Node, RenderTree, find\n",
    "root = Node(\"root\")\n",
    "\n",
    "for key, value in b.bags.items():\n",
    "    n = Node(key, parent=root)\n",
    "    for k,v in b.bags[key].items():\n",
    "        for i in range(v):\n",
    "            nn = Node(k, parent=n)\n",
    "\n",
    "for pre, fill, node in RenderTree(root):\n",
    "    print(\"%s%s\" % (pre, node.name))\n"
   ]
  },
  {
   "cell_type": "code",
   "execution_count": 82,
   "metadata": {},
   "outputs": [
    {
     "name": "stdout",
     "output_type": "stream",
     "text": [
      "shiny gold\n",
      "dark red\n",
      "dark orange\n",
      "dark yellow\n",
      "dark green\n",
      "dark blue\n",
      "dark violet\n"
     ]
    }
   ],
   "source": [
    "for n in root.children:\n",
    "    print(n.name)"
   ]
  },
  {
   "cell_type": "code",
   "execution_count": 108,
   "metadata": {},
   "outputs": [
    {
     "name": "stdout",
     "output_type": "stream",
     "text": [
      "Node('/root/dark red')\n",
      "Node('/root/dark orange')\n",
      "Node('/root/dark yellow')\n",
      "Node('/root/dark green')\n",
      "Node('/root/dark blue')\n",
      "Node('/root/dark violet')\n",
      "Node('/root/dark violet')\n",
      "Node('/root/dark blue')\n",
      "Node('/root/dark violet')\n",
      "Node('/root/dark violet')\n",
      "Node('/root/dark green')\n",
      "Node('/root/dark blue')\n",
      "Node('/root/dark violet')\n",
      "Node('/root/dark violet')\n",
      "Node('/root/dark blue')\n",
      "Node('/root/dark violet')\n",
      "Node('/root/dark violet')\n",
      "Node('/root/dark yellow')\n",
      "Node('/root/dark green')\n",
      "Node('/root/dark blue')\n",
      "Node('/root/dark violet')\n",
      "Node('/root/dark violet')\n",
      "Node('/root/dark blue')\n",
      "Node('/root/dark violet')\n",
      "Node('/root/dark violet')\n",
      "Node('/root/dark green')\n",
      "Node('/root/dark blue')\n",
      "Node('/root/dark violet')\n",
      "Node('/root/dark violet')\n",
      "Node('/root/dark blue')\n",
      "Node('/root/dark violet')\n",
      "Node('/root/dark violet')\n",
      "Node('/root/dark orange')\n",
      "Node('/root/dark yellow')\n",
      "Node('/root/dark green')\n",
      "Node('/root/dark blue')\n",
      "Node('/root/dark violet')\n",
      "Node('/root/dark violet')\n",
      "Node('/root/dark blue')\n",
      "Node('/root/dark violet')\n",
      "Node('/root/dark violet')\n",
      "Node('/root/dark green')\n",
      "Node('/root/dark blue')\n",
      "Node('/root/dark violet')\n",
      "Node('/root/dark violet')\n",
      "Node('/root/dark blue')\n",
      "Node('/root/dark violet')\n",
      "Node('/root/dark violet')\n",
      "Node('/root/dark yellow')\n",
      "Node('/root/dark green')\n",
      "Node('/root/dark blue')\n",
      "Node('/root/dark violet')\n",
      "Node('/root/dark violet')\n",
      "Node('/root/dark blue')\n",
      "Node('/root/dark violet')\n",
      "Node('/root/dark violet')\n",
      "Node('/root/dark green')\n",
      "Node('/root/dark blue')\n",
      "Node('/root/dark violet')\n",
      "Node('/root/dark violet')\n",
      "Node('/root/dark blue')\n",
      "Node('/root/dark violet')\n",
      "Node('/root/dark violet')\n",
      "Node('/root/dark red')\n",
      "Node('/root/dark orange')\n",
      "Node('/root/dark yellow')\n",
      "Node('/root/dark green')\n",
      "Node('/root/dark blue')\n",
      "Node('/root/dark violet')\n",
      "Node('/root/dark violet')\n",
      "Node('/root/dark blue')\n",
      "Node('/root/dark violet')\n",
      "Node('/root/dark violet')\n",
      "Node('/root/dark green')\n",
      "Node('/root/dark blue')\n",
      "Node('/root/dark violet')\n",
      "Node('/root/dark violet')\n",
      "Node('/root/dark blue')\n",
      "Node('/root/dark violet')\n",
      "Node('/root/dark violet')\n",
      "Node('/root/dark yellow')\n",
      "Node('/root/dark green')\n",
      "Node('/root/dark blue')\n",
      "Node('/root/dark violet')\n",
      "Node('/root/dark violet')\n",
      "Node('/root/dark blue')\n",
      "Node('/root/dark violet')\n",
      "Node('/root/dark violet')\n",
      "Node('/root/dark green')\n",
      "Node('/root/dark blue')\n",
      "Node('/root/dark violet')\n",
      "Node('/root/dark violet')\n",
      "Node('/root/dark blue')\n",
      "Node('/root/dark violet')\n",
      "Node('/root/dark violet')\n",
      "Node('/root/dark orange')\n",
      "Node('/root/dark yellow')\n",
      "Node('/root/dark green')\n",
      "Node('/root/dark blue')\n",
      "Node('/root/dark violet')\n",
      "Node('/root/dark violet')\n",
      "Node('/root/dark blue')\n",
      "Node('/root/dark violet')\n",
      "Node('/root/dark violet')\n",
      "Node('/root/dark green')\n",
      "Node('/root/dark blue')\n",
      "Node('/root/dark violet')\n",
      "Node('/root/dark violet')\n",
      "Node('/root/dark blue')\n",
      "Node('/root/dark violet')\n",
      "Node('/root/dark violet')\n",
      "Node('/root/dark yellow')\n",
      "Node('/root/dark green')\n",
      "Node('/root/dark blue')\n",
      "Node('/root/dark violet')\n",
      "Node('/root/dark violet')\n",
      "Node('/root/dark blue')\n",
      "Node('/root/dark violet')\n",
      "Node('/root/dark violet')\n",
      "Node('/root/dark green')\n",
      "Node('/root/dark blue')\n",
      "Node('/root/dark violet')\n",
      "Node('/root/dark violet')\n",
      "Node('/root/dark blue')\n",
      "Node('/root/dark violet')\n",
      "Node('/root/dark violet')\n"
     ]
    },
    {
     "data": {
      "text/plain": [
       "126"
      ]
     },
     "execution_count": 108,
     "metadata": {},
     "output_type": "execute_result"
    }
   ],
   "source": [
    "def count_children(n, bags):\n",
    "    if len(n.children) > 0:\n",
    "        for child in n.children:\n",
    "            bags += 1\n",
    "            ref_node =  find(root, lambda node: node.name == child.name, maxlevel=2)\n",
    "            bags = count_children(ref_node, bags)\n",
    "    return bags\n",
    "\n",
    "bags = 0\n",
    "n = find(root, lambda node: node.name == 'shiny gold', maxlevel=2)\n",
    "count_children(n, bags)\n"
   ]
  },
  {
   "cell_type": "code",
   "execution_count": 101,
   "metadata": {},
   "outputs": [],
   "source": [
    "bags = 1\n"
   ]
  },
  {
   "cell_type": "code",
   "execution_count": 73,
   "metadata": {},
   "outputs": [
    {
     "data": {
      "text/plain": [
       "{'shiny gold': Node('/shiny gold'),\n",
       " 'dark red': Node('/dark red'),\n",
       " 'dark orange': Node('/dark orange'),\n",
       " 'dark yellow': Node('/dark yellow'),\n",
       " 'dark green': Node('/dark green'),\n",
       " 'dark blue': Node('/dark blue'),\n",
       " 'dark violet': Node('/dark violet')}"
      ]
     },
     "execution_count": 73,
     "metadata": {},
     "output_type": "execute_result"
    }
   ],
   "source": [
    "node_dict"
   ]
  },
  {
   "cell_type": "code",
   "execution_count": 57,
   "metadata": {},
   "outputs": [
    {
     "ename": "IndentationError",
     "evalue": "expected an indented block (<ipython-input-57-92ea353ebe01>, line 4)",
     "output_type": "error",
     "traceback": [
      "\u001b[0;36m  File \u001b[0;32m\"<ipython-input-57-92ea353ebe01>\"\u001b[0;36m, line \u001b[0;32m4\u001b[0m\n\u001b[0;31m    current_color = 'shiny gold'\u001b[0m\n\u001b[0m                                ^\u001b[0m\n\u001b[0;31mIndentationError\u001b[0m\u001b[0;31m:\u001b[0m expected an indented block\n"
     ]
    }
   ],
   "source": [
    "n_bags = 0\n",
    "def count_sub_bags(color, d, n_bags=0):\n",
    "    while d[color] != {}:\n",
    "        for key, value in d[color].items():\n",
    "            \n",
    "        \n",
    "        \n",
    "current_color = 'shiny gold'\n",
    "\n",
    ":\n",
    "    for key, value in start.items():\n",
    "        holding_bags = value\n",
    "        print(b.bags[key], holding_bags)"
   ]
  },
  {
   "cell_type": "code",
   "execution_count": 61,
   "metadata": {},
   "outputs": [
    {
     "name": "stdout",
     "output_type": "stream",
     "text": [
      "dark red 2\n",
      "{'dark orange': 2}\n"
     ]
    }
   ],
   "source": [
    "chained_bags = 1\n",
    "\n",
    "n_bags = 1\n",
    "\n",
    "root = 'shiny gold'\n",
    "for key, value in b.bags[root].items():\n",
    "    n_bags += value\n",
    "    done = False\n",
    "    while done = False\n",
    "        n_bags += value*get_sub_bags(b.bags[key])\n",
    "        \n",
    "        print(key, value)\n",
    "        print(b.bags[key])"
   ]
  },
  {
   "cell_type": "code",
   "execution_count": 62,
   "metadata": {},
   "outputs": [
    {
     "data": {
      "text/plain": [
       "3"
      ]
     },
     "execution_count": 62,
     "metadata": {},
     "output_type": "execute_result"
    }
   ],
   "source": [
    "n_bags"
   ]
  }
 ],
 "metadata": {
  "kernelspec": {
   "display_name": "aoc",
   "language": "python",
   "name": "aoc"
  },
  "language_info": {
   "codemirror_mode": {
    "name": "ipython",
    "version": 3
   },
   "file_extension": ".py",
   "mimetype": "text/x-python",
   "name": "python",
   "nbconvert_exporter": "python",
   "pygments_lexer": "ipython3",
   "version": "3.8.0"
  }
 },
 "nbformat": 4,
 "nbformat_minor": 4
}
