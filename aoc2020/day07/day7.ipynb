{
 "cells": [
  {
   "cell_type": "code",
   "execution_count": 17,
   "metadata": {},
   "outputs": [],
   "source": [
    "import re\n",
    "\n",
    "class bag_rules:\n",
    "    def __init__(self, your_bag_color, input_file='test.txt', verbose=False):\n",
    "        self.your_bag_color = your_bag_color\n",
    "        self.input_file = input_file\n",
    "        self.verbose = verbose\n",
    "        self.read_file()\n",
    "        self.parse_file()\n",
    "\n",
    "    def read_file(self):\n",
    "        with open(self.input_file, 'r') as f:\n",
    "            self.rules = f.read().splitlines()\n",
    "    \n",
    "    def parse_file(self):\n",
    "        bags = {}\n",
    "        for rule in self.rules:\n",
    "            results = [x.group().strip() for x in re.finditer('(^.+?(?=bag))|(?=(\\d))(.*?)(?=bag)', rule)]\n",
    "            main_bag = results.pop(0)\n",
    "            if main_bag not in bags.keys():\n",
    "                bags[main_bag] = {}\n",
    "            for result in results:\n",
    "                a = [x.group().strip() for x in re.finditer('(^[0-9]+)|([a-z ]+)', result)]\n",
    "                a[0] = int(a[0])\n",
    "                bags[main_bag][a[1]] = a[0]\n",
    "        self.bags = bags\n",
    "    \n",
    "    def check_contents(self, dictionary):\n",
    "        return 1 if self.your_bag_color in dictionary.keys() else 0\n",
    "    \n",
    "    def check_sub_bags(self, d):        \n",
    "        if  self.valid == 1:#or self.iterator >= len(self.bags.keys()):\n",
    "            self.done = True\n",
    "            return \n",
    "        \n",
    "        for key in d.keys():\n",
    "            if self.done: continue\n",
    "            self.iterator += 1\n",
    "            self.valid = max(self.check_contents(self.bags[key]), self.valid)\n",
    "            if self.verbose: print(f\"\\tKEY={key}; VALID={self.valid}; ITER={self.iterator}\")\n",
    "            if self.valid == 1:\n",
    "                self.done = True\n",
    "            else:\n",
    "                self.check_sub_bags(self.bags[key])\n",
    "            \n",
    "    \n",
    "    def count_bags(self):\n",
    "        n_outer_bags = 0\n",
    "        for key in self.bags.keys():\n",
    "            self.valid = 0\n",
    "            self.iterator = 0\n",
    "            self.done = False\n",
    "            \n",
    "            if key == self.your_bag_color: continue\n",
    "            self.valid = self.check_contents(self.bags[key])\n",
    "            \n",
    "            if self.verbose: print(f\"KEY={key}; VALID={self.valid};\")\n",
    "            while not self.done:\n",
    "                self.check_sub_bags(self.bags[key])\n",
    "                self.done=True\n",
    "            n_outer_bags += self.valid\n",
    "        return n_outer_bags\n",
    "    \n",
    "    def count_bags_part_2(self):\n",
    "        self.n_inner_bags = 0\n",
    "        for key in self.bags[self.your_bag_color]:\n",
    "            self.done = False\n",
    "            \n",
    "            self.valid = self.check_contents(self.bags[key])\n",
    "            \n",
    "            if self.verbose: print(f\"KEY={key}; VALID={self.valid};\")\n",
    "            while not self.done:\n",
    "                self.check_sub_bags(self.bags[key])\n",
    "                self.done=True\n",
    "            n_outer_bags += self.valid\n",
    "        return n_outer_bags"
   ]
  },
  {
   "cell_type": "code",
   "execution_count": 21,
   "metadata": {},
   "outputs": [
    {
     "name": "stdout",
     "output_type": "stream",
     "text": [
      "['light red bags contain 1 bright white bag, 2 muted yellow bags.', 'dark orange bags contain 3 bright white bags, 4 muted yellow bags.', 'bright white bags contain 1 shiny gold bag.', 'muted yellow bags contain 2 shiny gold bags, 9 faded blue bags.', 'shiny gold bags contain 1 dark olive bag, 2 vibrant plum bags.', 'dark olive bags contain 3 faded blue bags, 4 dotted black bags.', 'vibrant plum bags contain 5 faded blue bags, 6 dotted black bags.', 'faded blue bags contain no other bags.', 'dotted black bags contain no other bags.']\n",
      "\n",
      "{'light red': {'bright white': 1, 'muted yellow': 2}, 'dark orange': {'bright white': 3, 'muted yellow': 4}, 'bright white': {'shiny gold': 1}, 'muted yellow': {'shiny gold': 2, 'faded blue': 9}, 'shiny gold': {'dark olive': 1, 'vibrant plum': 2}, 'dark olive': {'faded blue': 3, 'dotted black': 4}, 'vibrant plum': {'faded blue': 5, 'dotted black': 6}, 'faded blue': {}, 'dotted black': {}}\n"
     ]
    },
    {
     "data": {
      "text/plain": [
       "4"
      ]
     },
     "execution_count": 21,
     "metadata": {},
     "output_type": "execute_result"
    }
   ],
   "source": [
    "b = bag_rules('shiny gold')\n",
    "print(b.rules)\n",
    "print()\n",
    "print(b.bags)\n",
    "len(b.bags.keys())\n",
    "b.count_bags()"
   ]
  },
  {
   "cell_type": "code",
   "execution_count": 22,
   "metadata": {},
   "outputs": [
    {
     "name": "stdout",
     "output_type": "stream",
     "text": [
      "['shiny gold bags contain 2 dark red bags.', 'dark red bags contain 2 dark orange bags.', 'dark orange bags contain 2 dark yellow bags.', 'dark yellow bags contain 2 dark green bags.', 'dark green bags contain 2 dark blue bags.', 'dark blue bags contain 2 dark violet bags.', 'dark violet bags contain no other bags.']\n",
      "\n",
      "{'dark red': 2}\n"
     ]
    },
    {
     "data": {
      "text/plain": [
       "0"
      ]
     },
     "execution_count": 22,
     "metadata": {},
     "output_type": "execute_result"
    }
   ],
   "source": [
    "b = bag_rules('shiny gold', input_file = 'test_02.txt')\n",
    "print(b.rules)\n",
    "print()\n",
    "print(b.bags['shiny gold'])\n",
    "len(b.bags.keys())\n",
    "b.count_bags()"
   ]
  },
  {
   "cell_type": "code",
   "execution_count": null,
   "metadata": {},
   "outputs": [],
   "source": [
    "# two components \n",
    "# first find from the beginning of the string to the first instance of bag\n",
    "# second find between each digit and the following bag\n",
    "pattern = '(^.+?(?=bag))|(?=(\\d))(.*?)(?=bag)' "
   ]
  }
 ],
 "metadata": {
  "kernelspec": {
   "display_name": "aoc",
   "language": "python",
   "name": "aoc"
  },
  "language_info": {
   "codemirror_mode": {
    "name": "ipython",
    "version": 3
   },
   "file_extension": ".py",
   "mimetype": "text/x-python",
   "name": "python",
   "nbconvert_exporter": "python",
   "pygments_lexer": "ipython3",
   "version": "3.8.0"
  }
 },
 "nbformat": 4,
 "nbformat_minor": 4
}
