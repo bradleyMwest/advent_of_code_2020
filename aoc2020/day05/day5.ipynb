{
 "cells": [
  {
   "cell_type": "code",
   "execution_count": 29,
   "metadata": {},
   "outputs": [],
   "source": [
    "from math import ceil\n",
    "all_rows = list(range(128))\n",
    "index = \"FBFBBFFRLR\"\n",
    "row_codes = index[:7]\n",
    "col_code = index[-3:]"
   ]
  },
  {
   "cell_type": "code",
   "execution_count": 37,
   "metadata": {},
   "outputs": [],
   "source": [
    "def get_row_seat(index, verbose=False):\n",
    "    row_pos = [0, 127]\n",
    "    seat_pos = [0, 7]\n",
    "    for i in index:\n",
    "        row_diff = ceil((row_pos[1]-row_pos[0])/2)\n",
    "        seat_diff = ceil((seat_pos[1]-seat_pos[0])/2)\n",
    "        if i == \"F\":\n",
    "            row_pos[1] -= row_diff\n",
    "        elif i == \"B\":\n",
    "            row_pos[0] += row_diff\n",
    "        elif i == \"L\":\n",
    "            seat_pos[1] -= seat_diff\n",
    "        elif i == \"R\":\n",
    "            seat_pos[0] += seat_diff\n",
    "        if verbose: print(f\"{i}, {row_pos}, {seat_pos}\")\n",
    "    if verbose: print(f\"the final row = {row_pos[0]} and seat {seat_pos[0]}\")\n",
    "    return row_pos[0], seat_pos[0]"
   ]
  },
  {
   "cell_type": "code",
   "execution_count": 38,
   "metadata": {},
   "outputs": [
    {
     "name": "stdout",
     "output_type": "stream",
     "text": [
      "BFFFBBFRRR: row 70, seat 7, id 567\n",
      "FFFBBBFRRR: row 14, seat 7, id 119\n",
      "BBFFBBFRLL: row 102, seat 4, id 820\n"
     ]
    }
   ],
   "source": [
    "test_passes = [\"BFFFBBFRRR\", \"FFFBBBFRRR\", \"BBFFBBFRLL\"]\n",
    "for p in test_passes:\n",
    "    row, seat = get_row_seat(p)\n",
    "    print(f\"{p}: row {row}, seat {seat}, id {row*8+seat}\")"
   ]
  },
  {
   "cell_type": "code",
   "execution_count": 61,
   "metadata": {},
   "outputs": [],
   "source": [
    "def read_input(file):\n",
    "    with open(file, 'r') as f:\n",
    "        lines = f.read().splitlines()\n",
    "    return lines\n",
    "lines = read_input('input_05.txt')\n",
    "\n",
    "    "
   ]
  },
  {
   "cell_type": "code",
   "execution_count": 62,
   "metadata": {},
   "outputs": [],
   "source": [
    "def find_your_seat(seats):\n",
    "    seats.sort()\n",
    "    your_seat = None\n",
    "    prev_seat = seats[0]\n",
    "    for seat in seats:\n",
    "        if seat - prev_seat > 1:\n",
    "            your_seat = prev_seat + 1 \n",
    "            return your_seat\n",
    "        prev_seat = seat\n",
    "    return your_seat"
   ]
  },
  {
   "cell_type": "code",
   "execution_count": 63,
   "metadata": {},
   "outputs": [
    {
     "data": {
      "text/plain": [
       "653"
      ]
     },
     "execution_count": 63,
     "metadata": {},
     "output_type": "execute_result"
    }
   ],
   "source": [
    "seats = []\n",
    "for l in lines:\n",
    "    row, seat = get_row_seat(l)\n",
    "    seats.append(row*8+seat)\n",
    "find_your_seat(seats)"
   ]
  },
  {
   "cell_type": "code",
   "execution_count": 60,
   "metadata": {},
   "outputs": [
    {
     "data": {
      "text/plain": [
       "[59, 314, 133]"
      ]
     },
     "execution_count": 60,
     "metadata": {},
     "output_type": "execute_result"
    }
   ],
   "source": []
  }
 ],
 "metadata": {
  "kernelspec": {
   "display_name": "aoc2020",
   "language": "python",
   "name": "aoc2020"
  },
  "language_info": {
   "codemirror_mode": {
    "name": "ipython",
    "version": 3
   },
   "file_extension": ".py",
   "mimetype": "text/x-python",
   "name": "python",
   "nbconvert_exporter": "python",
   "pygments_lexer": "ipython3",
   "version": "3.7.4"
  }
 },
 "nbformat": 4,
 "nbformat_minor": 4
}
