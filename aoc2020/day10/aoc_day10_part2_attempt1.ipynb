{
 "cells": [
  {
   "cell_type": "code",
   "execution_count": 1,
   "metadata": {},
   "outputs": [],
   "source": [
    "class Node:\n",
    "    def __init__(self,value):\n",
    "        self.value = value\n",
    "        self.children = []\n",
    "        \n",
    "def get_all_children(node, level=0):\n",
    "    print(f'{\"|\"*level}{node.value}')\n",
    "    if node.children != []:\n",
    "        level += 1\n",
    "        for child in node.children:\n",
    "            get_all_children(child, level=level)\n",
    "\n",
    "def add_children(node, adapter_list, term_count = 0, current_jolt = 0):\n",
    "    for adapter in adapter_list:\n",
    "        if adapter <= node.value:\n",
    "            continue\n",
    "        elif (adapter - current_jolt) <= 3 & (adapter - current_jolt) > 0:\n",
    "            n = Node(adapter)\n",
    "            node.children.append(n)\n",
    "        else:\n",
    "            break      \n",
    "    if node.children == []:\n",
    "        term_count += 1\n",
    "        return node, term_count\n",
    "    else:\n",
    "        for child in node.children:\n",
    "            node, term_count = add_children(child, adapters, term_count=term_count, current_jolt=child.value)\n",
    "    return node, term_count\n",
    "            "
   ]
  },
  {
   "cell_type": "code",
   "execution_count": 2,
   "metadata": {},
   "outputs": [],
   "source": [
    "from aoc2020.utils import read_file\n",
    "\n"
   ]
  },
  {
   "cell_type": "code",
   "execution_count": 3,
   "metadata": {
    "scrolled": true
   },
   "outputs": [
    {
     "name": "stdout",
     "output_type": "stream",
     "text": [
      "Number of Iterations = 8\n"
     ]
    }
   ],
   "source": [
    "adapters = read_file('test.txt')\n",
    "adapters.sort()\n",
    "root = Node(0)\n",
    "node, term_count = add_children(root, adapters)\n",
    "assert term_count == 8\n",
    "print(f\"Number of Iterations = {term_count}\")"
   ]
  },
  {
   "cell_type": "code",
   "execution_count": 5,
   "metadata": {},
   "outputs": [
    {
     "name": "stdout",
     "output_type": "stream",
     "text": [
      "0\n",
      "|1\n",
      "||4\n",
      "|||5\n",
      "||||6\n",
      "|||||7\n",
      "||||||10\n",
      "|||||||11\n",
      "||||||||12\n",
      "|||||||||15\n",
      "||||||||||16\n",
      "|||||||||||19\n",
      "|||||||12\n",
      "||||||||15\n",
      "|||||||||16\n",
      "||||||||||19\n",
      "||||7\n",
      "|||||10\n",
      "||||||11\n",
      "|||||||12\n",
      "||||||||15\n",
      "|||||||||16\n",
      "||||||||||19\n",
      "||||||12\n",
      "|||||||15\n",
      "||||||||16\n",
      "|||||||||19\n",
      "|||6\n",
      "||||7\n",
      "|||||10\n",
      "||||||11\n",
      "|||||||12\n",
      "||||||||15\n",
      "|||||||||16\n",
      "||||||||||19\n",
      "||||||12\n",
      "|||||||15\n",
      "||||||||16\n",
      "|||||||||19\n",
      "|||7\n",
      "||||10\n",
      "|||||11\n",
      "||||||12\n",
      "|||||||15\n",
      "||||||||16\n",
      "|||||||||19\n",
      "|||||12\n",
      "||||||15\n",
      "|||||||16\n",
      "||||||||19\n"
     ]
    }
   ],
   "source": [
    "get_all_children(root)"
   ]
  },
  {
   "cell_type": "code",
   "execution_count": 11,
   "metadata": {},
   "outputs": [
    {
     "name": "stdout",
     "output_type": "stream",
     "text": [
      "Number of Iterations = 19208\n"
     ]
    }
   ],
   "source": [
    "adapters = read_file('test_2.txt')\n",
    "adapters.sort()\n",
    "root = Node(0)\n",
    "node, term_count = add_children(root, adapters)\n",
    "assert term_count == 19208\n",
    "print(f\"Number of Iterations = {term_count}\")"
   ]
  },
  {
   "cell_type": "code",
   "execution_count": null,
   "metadata": {},
   "outputs": [],
   "source": [
    "adapters = read_file('input_10.txt')\n",
    "adapters.sort()\n",
    "root = Node(0)\n",
    "node, term_count = add_children(root, adapters)\n",
    "print(f\"Number of Iterations = {term_count}\")"
   ]
  },
  {
   "cell_type": "code",
   "execution_count": null,
   "metadata": {},
   "outputs": [],
   "source": []
  }
 ],
 "metadata": {
  "kernelspec": {
   "display_name": "aoc",
   "language": "python",
   "name": "aoc"
  },
  "language_info": {
   "codemirror_mode": {
    "name": "ipython",
    "version": 3
   },
   "file_extension": ".py",
   "mimetype": "text/x-python",
   "name": "python",
   "nbconvert_exporter": "python",
   "pygments_lexer": "ipython3",
   "version": "3.8.0"
  }
 },
 "nbformat": 4,
 "nbformat_minor": 4
}
