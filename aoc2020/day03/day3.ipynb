{
 "cells": [
  {
   "cell_type": "code",
   "execution_count": 1,
   "metadata": {},
   "outputs": [],
   "source": [
    "def read_map(file):\n",
    "    with open(file, 'r') as f:\n",
    "        lines = f.read().splitlines()\n",
    "    return lines"
   ]
  },
  {
   "cell_type": "code",
   "execution_count": 2,
   "metadata": {},
   "outputs": [
    {
     "name": "stdout",
     "output_type": "stream",
     "text": [
      "['..##.......', '#...#...#..', '.#....#..#.', '..#.#...#.#', '.#...##..#.', '..#.##.....', '.#.#.#....#', '.#........#', '#.##...#...', '#...##....#', '.#..#...#.#']\n"
     ]
    }
   ],
   "source": [
    "terrain = read_map('test.txt')\n",
    "print(terrain)"
   ]
  },
  {
   "cell_type": "code",
   "execution_count": 36,
   "metadata": {},
   "outputs": [
    {
     "name": "stdout",
     "output_type": "stream",
     "text": [
      "Coord = (0, 0), Trees = 0, spot = .\n",
      "Coord = (1, 3), Trees = 0, spot = .\n",
      "Coord = (2, 6), Trees = 1, spot = #\n",
      "Coord = (3, 9), Trees = 1, spot = .\n",
      "Coord = (4, 1), Trees = 2, spot = #\n",
      "Coord = (5, 4), Trees = 3, spot = #\n",
      "Coord = (6, 7), Trees = 3, spot = .\n",
      "Coord = (7, 10), Trees = 4, spot = #\n",
      "Coord = (8, 2), Trees = 5, spot = #\n",
      "Coord = (9, 5), Trees = 6, spot = #\n",
      "Coord = (10, 8), Trees = 7, spot = #\n",
      "You Encountered 7 trees.\n"
     ]
    }
   ],
   "source": [
    "slope = (1, 3)\n",
    "start_pos = (0,0)\n",
    "map_size = (len(terrain), len(terrain[0]))\n",
    "n_trees = 0\n",
    "\n",
    "row = start_pos[0]\n",
    "col = start_pos[1]\n",
    "\n",
    "while row < map_size[0]:\n",
    "    if terrain[row][col] == '#':\n",
    "        n_trees += 1\n",
    "    print(f'Coord = {(row, col)}, Trees = {n_trees}, spot = {terrain[row][col]}')\n",
    "    row += slope[0]\n",
    "    col += slope[1]\n",
    "    if col >= map_size[1]:\n",
    "        col -= map_size[1]\n",
    "\n",
    "print(f'You Encountered {n_trees} trees.')"
   ]
  }
 ],
 "metadata": {
  "kernelspec": {
   "display_name": "aoc",
   "language": "python",
   "name": "aoc"
  },
  "language_info": {
   "codemirror_mode": {
    "name": "ipython",
    "version": 3
   },
   "file_extension": ".py",
   "mimetype": "text/x-python",
   "name": "python",
   "nbconvert_exporter": "python",
   "pygments_lexer": "ipython3",
   "version": "3.8.0"
  }
 },
 "nbformat": 4,
 "nbformat_minor": 4
}
