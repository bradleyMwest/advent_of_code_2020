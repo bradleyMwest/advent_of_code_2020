{
 "cells": [
  {
   "cell_type": "code",
   "execution_count": 1,
   "metadata": {},
   "outputs": [],
   "source": [
    "def read_map(file):\n",
    "    with open(file, 'r') as f:\n",
    "        lines = f.read().splitlines()\n",
    "    return lines"
   ]
  },
  {
   "cell_type": "code",
   "execution_count": 2,
   "metadata": {},
   "outputs": [
    {
     "name": "stdout",
     "output_type": "stream",
     "text": [
      "['..##.......', '#...#...#..', '.#....#..#.', '..#.#...#.#', '.#...##..#.', '..#.##.....', '.#.#.#....#', '.#........#', '#.##...#...', '#...##....#', '.#..#...#.#']\n"
     ]
    }
   ],
   "source": [
    "terrain = read_map('test.txt')\n",
    "print(terrain)"
   ]
  },
  {
   "cell_type": "code",
   "execution_count": 36,
   "metadata": {},
   "outputs": [
    {
     "name": "stdout",
     "output_type": "stream",
     "text": [
      "Coord = (0, 0), Trees = 0, spot = .\n",
      "Coord = (1, 3), Trees = 0, spot = .\n",
      "Coord = (2, 6), Trees = 1, spot = #\n",
      "Coord = (3, 9), Trees = 1, spot = .\n",
      "Coord = (4, 1), Trees = 2, spot = #\n",
      "Coord = (5, 4), Trees = 3, spot = #\n",
      "Coord = (6, 7), Trees = 3, spot = .\n",
      "Coord = (7, 10), Trees = 4, spot = #\n",
      "Coord = (8, 2), Trees = 5, spot = #\n",
      "Coord = (9, 5), Trees = 6, spot = #\n",
      "Coord = (10, 8), Trees = 7, spot = #\n",
      "You Encountered 7 trees.\n"
     ]
    }
   ],
   "source": [
    "\n",
    "slope = (1, 3)\n",
    "start_pos = (0,0)\n",
    "map_size = (len(terrain), len(terrain[0]))\n",
    "n_trees = 0\n",
    "\n",
    "row = start_pos[0]\n",
    "col = start_pos[1]\n",
    "\n",
    "while row < map_size[0]:\n",
    "    if terrain[row][col] == '#':\n",
    "        n_trees += 1\n",
    "    print(f'Coord = {(row, col)}, Trees = {n_trees}, spot = {terrain[row][col]}')\n",
    "    row += slope[0]\n",
    "    col += slope[1]\n",
    "    if col >= map_size[1]:\n",
    "        col -= map_size[1]\n",
    "\n",
    "print(f'You Encountered {n_trees} trees.')"
   ]
  },
  {
   "cell_type": "code",
   "execution_count": 41,
   "metadata": {},
   "outputs": [],
   "source": [
    "def count_trees(terrain, slope, start_pos, verbose = False):\n",
    "    map_size = (len(terrain), len(terrain[0]))\n",
    "    n_trees = 0\n",
    "    \n",
    "    row = start_pos[0]\n",
    "    col = start_pos[1]\n",
    "    while row < map_size[0]:\n",
    "        if terrain[row][col] == '#':\n",
    "            n_trees += 1\n",
    "        if verbose: print(f'Coord = {(row, col)}, Trees = {n_trees}, spot = {terrain[row][col]}')\n",
    "        row += slope[0]\n",
    "        col += slope[1]\n",
    "        if col > map_size[1]:\n",
    "            col -= map_size[1]\n",
    "\n",
    "    print(f'You Encountered {n_trees} trees with slope {slope}.')\n",
    "    \n",
    "    return n_trees"
   ]
  },
  {
   "cell_type": "code",
   "execution_count": 45,
   "metadata": {},
   "outputs": [
    {
     "name": "stdout",
     "output_type": "stream",
     "text": [
      "You Encountered 2 trees with slope (1, 1).\n",
      "You Encountered 7 trees with slope (1, 3).\n",
      "You Encountered 3 trees with slope (1, 5).\n",
      "You Encountered 4 trees with slope (1, 7).\n",
      "You Encountered 2 trees with slope (2, 1).\n",
      "Total Product = 336\n"
     ]
    }
   ],
   "source": [
    "#part 2\n",
    "slopes = [(1,1), (1,3), (1,5), (1,7), (2,1)]\n",
    "prod = 1\n",
    "for slope in slopes:\n",
    "    trees = count_trees(terrain, slope, (0,0))\n",
    "    prod *= trees\n",
    "print(f\"Total Product = {prod}\")"
   ]
  }
 ],
 "metadata": {
  "kernelspec": {
   "display_name": "aoc",
   "language": "python",
   "name": "aoc"
  },
  "language_info": {
   "codemirror_mode": {
    "name": "ipython",
    "version": 3
   },
   "file_extension": ".py",
   "mimetype": "text/x-python",
   "name": "python",
   "nbconvert_exporter": "python",
   "pygments_lexer": "ipython3",
   "version": "3.8.0"
  }
 },
 "nbformat": 4,
 "nbformat_minor": 4
}
