{
 "cells": [
  {
   "cell_type": "code",
   "execution_count": 1,
   "metadata": {},
   "outputs": [],
   "source": [
    "import numpy as np"
   ]
  },
  {
   "cell_type": "code",
   "execution_count": 2,
   "metadata": {},
   "outputs": [
    {
     "data": {
      "text/plain": [
       "array([['L', '.', 'L', 'L', '.', 'L', 'L', '.', 'L', 'L'],\n",
       "       ['L', 'L', 'L', 'L', 'L', 'L', 'L', '.', 'L', 'L'],\n",
       "       ['L', '.', 'L', '.', 'L', '.', '.', 'L', '.', '.'],\n",
       "       ['L', 'L', 'L', 'L', '.', 'L', 'L', '.', 'L', 'L'],\n",
       "       ['L', '.', 'L', 'L', '.', 'L', 'L', '.', 'L', 'L'],\n",
       "       ['L', '.', 'L', 'L', 'L', 'L', 'L', '.', 'L', 'L'],\n",
       "       ['.', '.', 'L', '.', 'L', '.', '.', '.', '.', '.'],\n",
       "       ['L', 'L', 'L', 'L', 'L', 'L', 'L', 'L', 'L', 'L'],\n",
       "       ['L', '.', 'L', 'L', 'L', 'L', 'L', 'L', '.', 'L'],\n",
       "       ['L', '.', 'L', 'L', 'L', 'L', 'L', '.', 'L', 'L']], dtype='<U1')"
      ]
     },
     "execution_count": 2,
     "metadata": {},
     "output_type": "execute_result"
    }
   ],
   "source": [
    "with open('test.txt', 'r') as f:\n",
    "    lines = f.read().splitlines()\n",
    "\n",
    "seats = np.array([[place for place in line] for line in lines])\n",
    "seats_orig = seats.copy()\n",
    "seats"
   ]
  },
  {
   "cell_type": "code",
   "execution_count": 3,
   "metadata": {},
   "outputs": [],
   "source": [
    "''' \n",
    "  NW    N   NE\n",
    "     \\  :  /\n",
    "      \\ : /\n",
    "  W---- . ---- E\n",
    "      / : \\\n",
    "     /  :  \\\n",
    "  SW    S   SE\n",
    "'''\n",
    "    \n",
    "\n",
    "def W(m, row, col):\n",
    "    return m[row, 0:col][::-1]\n",
    "\n",
    "def E(m, row, col):\n",
    "    return m[row, col+1:m.shape[1]]\n",
    "\n",
    "def N(m, row, col):\n",
    "    return m[0:row, col][::-1]\n",
    "\n",
    "def S(m, row, col):\n",
    "    return m[row+1:m.shape[0], col]\n",
    "\n",
    "def NE(m, row, col):\n",
    "    w = m[0:row, col+1:m.shape[1]]\n",
    "    r, c = w.shape\n",
    "    if r > c:\n",
    "        w = w[-c:, :c]\n",
    "    elif r < c:\n",
    "        w = w[-r:, :r]\n",
    "    return np.flipud(w).diagonal()\n",
    "\n",
    "def NW(m, row, col):\n",
    "    \"checked\"\n",
    "    w = m[0:row, 0:col]\n",
    "    r, c = w.shape\n",
    "    if r > c:\n",
    "        w = w[-c:, -c:]\n",
    "    elif r < c:\n",
    "        w = w[-r:, -r:]\n",
    "    return w.diagonal()[::-1]\n",
    "\n",
    "def SW(m, row, col):\n",
    "    w = m[row+1:m.shape[0], 0:col]\n",
    "    r, c = w.shape\n",
    "    if r > c:\n",
    "        w = w[:c, -c:]\n",
    "    elif r < c:\n",
    "        w = w[:r, -r:]\n",
    "    return np.flipud(w).diagonal()[::-1]\n",
    "\n",
    "def SE(m, row, col):\n",
    "    \"checked\"\n",
    "    w = m[row+1:m.shape[0],  col+1:m.shape[1]]\n",
    "    r, c = w.shape\n",
    "    if r > c:\n",
    "        w = w[:c, :c]\n",
    "    elif r < c:\n",
    "        w = w[:r, :r]\n",
    "    return w.diagonal()\n",
    "\n",
    "def check_all_directions(m, row, col, verbose=False):\n",
    "    visible_seats = []\n",
    "    debug = {}\n",
    "    for func in [N, E, S, W, NE, NW, SE, SW]:\n",
    "        res = func(m, row, col)\n",
    "        if res.size == 0: continue\n",
    "        first_non_floor_index = np.argmax(res != '.')\n",
    "        debug[func.__name__] = (res)\n",
    "        visible_seats.append(res[first_non_floor_index])\n",
    "    if verbose: print(debug)\n",
    "    return np.array(visible_seats)\n",
    "    \n",
    "\n",
    "def swap_vis_seats(seat_map):\n",
    "    new_map = seat_map.copy()\n",
    "    rows, cols = seat_map.shape\n",
    "    changes = 0\n",
    "    for row in range(rows):\n",
    "        for col in range(cols):\n",
    "            current_seat = seat_map[row, col]\n",
    "            if current_seat == '.':\n",
    "                continue\n",
    "            \n",
    "            near_by_seats = check_all_directions(seat_map, row, col)\n",
    "            \n",
    "\n",
    "            if current_seat == 'L' and np.sum(near_by_seats == '#') == 0:\n",
    "                changes += 1\n",
    "                new_map[row,col] = '#'\n",
    "\n",
    "            elif current_seat == '#' and np.sum(near_by_seats == \"#\") >= 5:\n",
    "                changes += 1\n",
    "                new_map[row,col] = 'L'\n",
    "    return new_map, changes"
   ]
  },
  {
   "cell_type": "code",
   "execution_count": null,
   "metadata": {},
   "outputs": [],
   "source": [
    "test = np.array([[\"A\", \"B\", \"C\", \"D\", 1], \n",
    "                 [\"E\", \"F\", \"G\", \"H\", 2],\n",
    "                 [\"I\", \"J\", \"K\", \"L\", 3],\n",
    "                 [\"M\", \"N\", \"O\", \"P\", 4]])"
   ]
  },
  {
   "cell_type": "code",
   "execution_count": 4,
   "metadata": {},
   "outputs": [
    {
     "name": "stdout",
     "output_type": "stream",
     "text": [
      "[['L' '.' 'L' 'L' '.' 'L' 'L' '.' 'L' 'L']\n",
      " ['L' 'L' 'L' 'L' 'L' 'L' 'L' '.' 'L' 'L']\n",
      " ['L' '.' 'L' '.' 'L' '.' '.' 'L' '.' '.']\n",
      " ['L' 'L' 'L' 'L' '.' 'L' 'L' '.' 'L' 'L']\n",
      " ['L' '.' 'L' 'L' '.' 'L' 'L' '.' 'L' 'L']\n",
      " ['L' '.' 'L' 'L' 'L' 'L' 'L' '.' 'L' 'L']\n",
      " ['.' '.' 'L' '.' 'L' '.' '.' '.' '.' '.']\n",
      " ['L' 'L' 'L' 'L' 'L' 'L' 'L' 'L' 'L' 'L']\n",
      " ['L' '.' 'L' 'L' 'L' 'L' 'L' 'L' '.' 'L']\n",
      " ['L' '.' 'L' 'L' 'L' 'L' 'L' '.' 'L' 'L']]\n",
      "71\n",
      "[['#' '.' '#' '#' '.' '#' '#' '.' '#' '#']\n",
      " ['#' '#' '#' '#' '#' '#' '#' '.' '#' '#']\n",
      " ['#' '.' '#' '.' '#' '.' '.' '#' '.' '.']\n",
      " ['#' '#' '#' '#' '.' '#' '#' '.' '#' '#']\n",
      " ['#' '.' '#' '#' '.' '#' '#' '.' '#' '#']\n",
      " ['#' '.' '#' '#' '#' '#' '#' '.' '#' '#']\n",
      " ['.' '.' '#' '.' '#' '.' '.' '.' '.' '.']\n",
      " ['#' '#' '#' '#' '#' '#' '#' '#' '#' '#']\n",
      " ['#' '.' '#' '#' '#' '#' '#' '#' '.' '#']\n",
      " ['#' '.' '#' '#' '#' '#' '#' '.' '#' '#']]\n",
      "64\n",
      "[['#' '.' 'L' 'L' '.' 'L' 'L' '.' 'L' '#']\n",
      " ['#' 'L' 'L' 'L' 'L' 'L' 'L' '.' 'L' 'L']\n",
      " ['L' '.' 'L' '.' 'L' '.' '.' 'L' '.' '.']\n",
      " ['L' 'L' 'L' 'L' '.' 'L' 'L' '.' 'L' 'L']\n",
      " ['L' '.' 'L' 'L' '.' 'L' 'L' '.' 'L' 'L']\n",
      " ['L' '.' 'L' 'L' 'L' 'L' 'L' '.' 'L' 'L']\n",
      " ['.' '.' 'L' '.' 'L' '.' '.' '.' '.' '.']\n",
      " ['L' 'L' 'L' 'L' 'L' 'L' 'L' 'L' 'L' '#']\n",
      " ['#' '.' 'L' 'L' 'L' 'L' 'L' 'L' '.' 'L']\n",
      " ['#' '.' 'L' 'L' 'L' 'L' 'L' '.' 'L' '#']]\n",
      "46\n",
      "[['#' '.' 'L' '#' '.' '#' '#' '.' 'L' '#']\n",
      " ['#' 'L' '#' '#' '#' '#' '#' '.' 'L' 'L']\n",
      " ['L' '.' '#' '.' '#' '.' '.' '#' '.' '.']\n",
      " ['#' '#' 'L' '#' '.' '#' '#' '.' '#' '#']\n",
      " ['#' '.' '#' '#' '.' '#' 'L' '.' '#' '#']\n",
      " ['#' '.' '#' '#' '#' '#' '#' '.' '#' 'L']\n",
      " ['.' '.' '#' '.' '#' '.' '.' '.' '.' '.']\n",
      " ['L' 'L' 'L' '#' '#' '#' '#' 'L' 'L' '#']\n",
      " ['#' '.' 'L' '#' '#' '#' '#' '#' '.' 'L']\n",
      " ['#' '.' 'L' '#' '#' '#' '#' '.' 'L' '#']]\n",
      "35\n",
      "[['#' '.' 'L' '#' '.' 'L' '#' '.' 'L' '#']\n",
      " ['#' 'L' 'L' 'L' 'L' 'L' 'L' '.' 'L' 'L']\n",
      " ['L' '.' 'L' '.' 'L' '.' '.' '#' '.' '.']\n",
      " ['#' '#' 'L' 'L' '.' 'L' 'L' '.' 'L' '#']\n",
      " ['L' '.' 'L' 'L' '.' 'L' 'L' '.' 'L' '#']\n",
      " ['#' '.' 'L' 'L' 'L' 'L' 'L' '.' 'L' 'L']\n",
      " ['.' '.' 'L' '.' 'L' '.' '.' '.' '.' '.']\n",
      " ['L' 'L' 'L' 'L' 'L' 'L' 'L' 'L' 'L' '#']\n",
      " ['#' '.' 'L' 'L' 'L' 'L' 'L' '#' '.' 'L']\n",
      " ['#' '.' 'L' '#' 'L' 'L' '#' '.' 'L' '#']]\n",
      "13\n",
      "[['#' '.' 'L' '#' '.' 'L' '#' '.' 'L' '#']\n",
      " ['#' 'L' 'L' 'L' 'L' 'L' 'L' '.' 'L' 'L']\n",
      " ['L' '.' 'L' '.' 'L' '.' '.' '#' '.' '.']\n",
      " ['#' '#' 'L' '#' '.' '#' 'L' '.' 'L' '#']\n",
      " ['L' '.' 'L' '#' '.' '#' 'L' '.' 'L' '#']\n",
      " ['#' '.' 'L' '#' '#' '#' '#' '.' 'L' 'L']\n",
      " ['.' '.' '#' '.' '#' '.' '.' '.' '.' '.']\n",
      " ['L' 'L' 'L' '#' '#' '#' 'L' 'L' 'L' '#']\n",
      " ['#' '.' 'L' 'L' 'L' 'L' 'L' '#' '.' 'L']\n",
      " ['#' '.' 'L' '#' 'L' 'L' '#' '.' 'L' '#']]\n",
      "5\n",
      "[['#' '.' 'L' '#' '.' 'L' '#' '.' 'L' '#']\n",
      " ['#' 'L' 'L' 'L' 'L' 'L' 'L' '.' 'L' 'L']\n",
      " ['L' '.' 'L' '.' 'L' '.' '.' '#' '.' '.']\n",
      " ['#' '#' 'L' '#' '.' '#' 'L' '.' 'L' '#']\n",
      " ['L' '.' 'L' '#' '.' 'L' 'L' '.' 'L' '#']\n",
      " ['#' '.' 'L' 'L' 'L' 'L' '#' '.' 'L' 'L']\n",
      " ['.' '.' '#' '.' 'L' '.' '.' '.' '.' '.']\n",
      " ['L' 'L' 'L' '#' '#' '#' 'L' 'L' 'L' '#']\n",
      " ['#' '.' 'L' 'L' 'L' 'L' 'L' '#' '.' 'L']\n",
      " ['#' '.' 'L' '#' 'L' 'L' '#' '.' 'L' '#']]\n",
      "0\n",
      "[['#' '.' 'L' '#' '.' 'L' '#' '.' 'L' '#']\n",
      " ['#' 'L' 'L' 'L' 'L' 'L' 'L' '.' 'L' 'L']\n",
      " ['L' '.' 'L' '.' 'L' '.' '.' '#' '.' '.']\n",
      " ['#' '#' 'L' '#' '.' '#' 'L' '.' 'L' '#']\n",
      " ['L' '.' 'L' '#' '.' 'L' 'L' '.' 'L' '#']\n",
      " ['#' '.' 'L' 'L' 'L' 'L' '#' '.' 'L' 'L']\n",
      " ['.' '.' '#' '.' 'L' '.' '.' '.' '.' '.']\n",
      " ['L' 'L' 'L' '#' '#' '#' 'L' 'L' 'L' '#']\n",
      " ['#' '.' 'L' 'L' 'L' 'L' 'L' '#' '.' 'L']\n",
      " ['#' '.' 'L' '#' 'L' 'L' '#' '.' 'L' '#']]\n"
     ]
    }
   ],
   "source": [
    "seats = seats_orig.copy()\n",
    "print(seats)\n",
    "for i in range(7):\n",
    "    seats, changes = swap_vis_seats(seats)\n",
    "    print(changes)\n",
    "    print(seats)\n"
   ]
  },
  {
   "cell_type": "code",
   "execution_count": null,
   "metadata": {},
   "outputs": [],
   "source": []
  },
  {
   "cell_type": "code",
   "execution_count": 5,
   "metadata": {},
   "outputs": [
    {
     "data": {
      "text/plain": [
       "26"
      ]
     },
     "execution_count": 5,
     "metadata": {},
     "output_type": "execute_result"
    }
   ],
   "source": [
    "(seats == \"#\").sum()"
   ]
  },
  {
   "cell_type": "code",
   "execution_count": null,
   "metadata": {},
   "outputs": [],
   "source": [
    "check_all_directions(seats, 3, 1, verbose=True)"
   ]
  },
  {
   "cell_type": "code",
   "execution_count": null,
   "metadata": {},
   "outputs": [],
   "source": [
    "near_by_seats = NW(seats, 3,1)"
   ]
  },
  {
   "cell_type": "code",
   "execution_count": null,
   "metadata": {},
   "outputs": [],
   "source": []
  },
  {
   "cell_type": "code",
   "execution_count": null,
   "metadata": {},
   "outputs": [],
   "source": []
  },
  {
   "cell_type": "code",
   "execution_count": null,
   "metadata": {},
   "outputs": [],
   "source": [
    "row = 0\n",
    "col = 5\n",
    "w = seats[row, 0:col][::-1]\n",
    "\n",
    "i = np.argmax(w  != '.')\n",
    "w, w[i]"
   ]
  },
  {
   "cell_type": "code",
   "execution_count": null,
   "metadata": {},
   "outputs": [],
   "source": [
    "window"
   ]
  },
  {
   "cell_type": "code",
   "execution_count": null,
   "metadata": {},
   "outputs": [],
   "source": [
    "curr_map, changes"
   ]
  },
  {
   "cell_type": "code",
   "execution_count": null,
   "metadata": {},
   "outputs": [],
   "source": [
    "curr_map[0:3,7:10]"
   ]
  },
  {
   "cell_type": "code",
   "execution_count": null,
   "metadata": {
    "scrolled": true
   },
   "outputs": [],
   "source": [
    "curr_map, changes = swap_seats(curr_map)"
   ]
  },
  {
   "cell_type": "code",
   "execution_count": null,
   "metadata": {},
   "outputs": [],
   "source": [
    "curr_map, changes"
   ]
  },
  {
   "cell_type": "code",
   "execution_count": null,
   "metadata": {},
   "outputs": [],
   "source": [
    "curr_map, changes = swap_seats(curr_map)\n",
    "curr_map, changes"
   ]
  },
  {
   "cell_type": "code",
   "execution_count": null,
   "metadata": {},
   "outputs": [],
   "source": [
    "curr_map, changes = swap_seats(curr_map)\n",
    "curr_map, changes"
   ]
  },
  {
   "cell_type": "code",
   "execution_count": null,
   "metadata": {},
   "outputs": [],
   "source": [
    "curr_map, changes = swap_seats(curr_map)\n",
    "curr_map, changes"
   ]
  },
  {
   "cell_type": "code",
   "execution_count": null,
   "metadata": {},
   "outputs": [],
   "source": [
    "curr_map, changes = swap_seats(curr_map)\n",
    "curr_map, changes"
   ]
  },
  {
   "cell_type": "code",
   "execution_count": null,
   "metadata": {},
   "outputs": [],
   "source": [
    "(curr_map == \"#\").sum()"
   ]
  }
 ],
 "metadata": {
  "kernelspec": {
   "display_name": "aoc",
   "language": "python",
   "name": "aoc"
  },
  "language_info": {
   "codemirror_mode": {
    "name": "ipython",
    "version": 3
   },
   "file_extension": ".py",
   "mimetype": "text/x-python",
   "name": "python",
   "nbconvert_exporter": "python",
   "pygments_lexer": "ipython3",
   "version": "3.8.0"
  }
 },
 "nbformat": 4,
 "nbformat_minor": 4
}
