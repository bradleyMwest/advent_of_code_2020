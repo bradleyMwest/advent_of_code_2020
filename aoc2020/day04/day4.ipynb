{
 "cells": [
  {
   "cell_type": "code",
   "execution_count": 8,
   "metadata": {},
   "outputs": [],
   "source": [
    "import re\n",
    "\n",
    "field_regex = {}\n",
    "field_regex['byr'] = \"^([0-9]{4})$\" #4 digit number\n",
    "field_regex['iyr'] = \"^([0-9]{4})$\" #4 digit number\n",
    "field_regex['eyr'] = \"^([0-9]{4})$\" #4 digit number\n",
    "field_regex['hgt'] = \"^([0-9]{2,3})(in|cm)\" # 2 or 3 digit number followed by in or cm\n",
    "field_regex['hcl'] = \"^#[a-f,0-9]{6}$\" # hash followed by a 6 digit alphanumeric with only lowercase a-f allowed\n",
    "field_regex['ecl'] = \"^((amb)|(blu)|(brn)|(gry)|(grn)|(hzl)|(oth))$\" #only one of these 6 options\n",
    "field_regex['pid'] = \"^[0-9]{9}$\" #nine digit number\n",
    "field_regex['cid'] = \"\" #do nothing\n",
    "\n",
    "def read_batch(file):\n",
    "    with open(file, 'r') as f:\n",
    "        text = f.read()\n",
    "    passports = text.split('\\n\\n')\n",
    "    return passports\n",
    "\n",
    "def check_field_values(field):\n",
    "    key, value = field.split(\":\")\n",
    "    valid = 0 \n",
    "    match = re.search(field_regex[key], value)\n",
    "    if match is not None:\n",
    "        if key == 'byr' and int(match.group()) >= 1920 and int(match.group()) <= 2002:\n",
    "            valid = 1\n",
    "            \n",
    "        elif key == 'iyr' and int(match.group()) >= 2010 and int(match.group()) <= 2020:\n",
    "            valid = 1\n",
    "            \n",
    "        elif key == 'eyr' and int(match.group()) >= 2020 and int(match.group()) <= 2030:\n",
    "            valid = 1\n",
    "            \n",
    "        elif key == 'hgt':\n",
    "            height = int(re.search(\"^[0-9]{2,3}\",value).group())\n",
    "            if 'in' in value and height >= 59 and height <=76:\n",
    "                valid = 1\n",
    "            elif 'cm' in value and height >= 150 and height <=193:\n",
    "                valid = 1\n",
    "        \n",
    "        elif key == 'hcl':\n",
    "            valid=1      \n",
    "        elif key == 'ecl':\n",
    "            valid = 1\n",
    "        elif key == 'pid':\n",
    "            valid = 1\n",
    "        elif key == 'cid':\n",
    "            valid = 0\n",
    "    \n",
    "    return valid"
   ]
  },
  {
   "cell_type": "code",
   "execution_count": 22,
   "metadata": {},
   "outputs": [
    {
     "data": {
      "text/plain": [
       "['eyr:1972 cid:100\\nhcl:#18171d ecl:amb hgt:170 pid:186cm iyr:2018 byr:1926',\n",
       " 'iyr:2019\\nhcl:#602927 eyr:1967 hgt:170cm\\necl:grn pid:012533040 byr:1946',\n",
       " 'hcl:dab227 iyr:2012\\necl:brn hgt:182cm pid:021572410 eyr:2020 byr:1992 cid:277',\n",
       " 'hgt:59cm ecl:zzz\\neyr:2038 hcl:74454a iyr:2023\\npid:3556412378 byr:2007',\n",
       " 'pid:087499704 hgt:74in ecl:grn iyr:2012 eyr:2030 byr:1980\\nhcl:#623a2f',\n",
       " 'eyr:2029 ecl:blu cid:129 byr:1989\\niyr:2014 pid:896056539 hcl:#a97842 hgt:165cm',\n",
       " 'hcl:#888785\\nhgt:164cm byr:2001 iyr:2015 cid:88\\npid:545766238 ecl:hzl\\neyr:2022',\n",
       " 'iyr:2010 hgt:158cm hcl:#b6652a ecl:blu byr:1944 eyr:2021 pid:093154719']"
      ]
     },
     "execution_count": 22,
     "metadata": {},
     "output_type": "execute_result"
    }
   ],
   "source": [
    "ps = read_batch('part2_test.txt')\n",
    "ps"
   ]
  },
  {
   "cell_type": "code",
   "execution_count": 10,
   "metadata": {},
   "outputs": [],
   "source": [
    "def count_valid_passports(passports):\n",
    "        valid = 0\n",
    "        for p in passports:\n",
    "            fields = [x.group() for x in re.finditer('(ecl)|(pid)|(eyr)|(hcl)|(byr)|(iyr)|(hgt)', p)] # check only mandatory fields\n",
    "            if len(fields) >= 7:\n",
    "                valid +=1\n",
    "    return valid"
   ]
  },
  {
   "cell_type": "code",
   "execution_count": 11,
   "metadata": {},
   "outputs": [
    {
     "data": {
      "text/plain": [
       "8"
      ]
     },
     "execution_count": 11,
     "metadata": {},
     "output_type": "execute_result"
    }
   ],
   "source": [
    "count_valid_passports(ps)"
   ]
  },
  {
   "cell_type": "code",
   "execution_count": 21,
   "metadata": {},
   "outputs": [
    {
     "name": "stdout",
     "output_type": "stream",
     "text": [
      "eyr:1972 is valid 0\n",
      "cid:100 is valid 1\n",
      "hcl:#18171d is valid 1\n",
      "ecl:amb is valid 1\n",
      "hgt:170 is valid 0\n",
      "pid:186cm is valid 0\n",
      "iyr:2018 is valid 1\n",
      "byr:1926 is valid 1\n",
      "\n",
      "iyr:2019 is valid 1\n",
      "hcl:#602927 is valid 1\n",
      "eyr:1967 is valid 0\n",
      "hgt:170cm is valid 1\n",
      "ecl:grn is valid 1\n",
      "pid:012533040 is valid 1\n",
      "byr:1946 is valid 1\n",
      "\n",
      "hcl:dab227 is valid 0\n",
      "iyr:2012 is valid 1\n",
      "ecl:brn is valid 1\n",
      "hgt:182cm is valid 1\n",
      "pid:021572410 is valid 1\n",
      "eyr:2020 is valid 1\n",
      "byr:1992 is valid 1\n",
      "cid:277 is valid 1\n",
      "\n",
      "hgt:59cm is valid 0\n",
      "ecl:zzz is valid 0\n",
      "eyr:2038 is valid 0\n",
      "hcl:74454a is valid 0\n",
      "iyr:2023 is valid 0\n",
      "pid:3556412378 is valid 0\n",
      "byr:2007 is valid 0\n",
      "\n",
      "pid:087499704 is valid 1\n",
      "hgt:74in is valid 1\n",
      "ecl:grn is valid 1\n",
      "iyr:2012 is valid 1\n",
      "eyr:2030 is valid 1\n",
      "byr:1980 is valid 1\n",
      "hcl:#623a2f is valid 1\n",
      "\n",
      "eyr:2029 is valid 1\n",
      "ecl:blu is valid 1\n",
      "cid:129 is valid 1\n",
      "byr:1989 is valid 1\n",
      "iyr:2014 is valid 1\n",
      "pid:896056539 is valid 1\n",
      "hcl:#a97842 is valid 1\n",
      "hgt:165cm is valid 1\n",
      "\n",
      "hcl:#888785 is valid 1\n",
      "hgt:164cm is valid 1\n",
      "byr:2001 is valid 1\n",
      "iyr:2015 is valid 1\n",
      "cid:88 is valid 1\n",
      "pid:545766238 is valid 1\n",
      "ecl:hzl is valid 1\n",
      "eyr:2022 is valid 1\n",
      "\n",
      "iyr:2010 is valid 1\n",
      "hgt:158cm is valid 1\n",
      "hcl:#b6652a is valid 1\n",
      "ecl:blu is valid 1\n",
      "byr:1944 is valid 1\n",
      "eyr:2021 is valid 1\n",
      "pid:093154719 is valid 1\n",
      "\n"
     ]
    }
   ],
   "source": [
    "for p in ps:\n",
    "    split_fields = [x for x in p.replace(' ',',').replace('\\n',',').split(',')]\n",
    "    for field in split_fields:\n",
    "        res = check_field_values(field)\n",
    "        print(f\"{field} is valid {res}\")\n",
    "    print()"
   ]
  },
  {
   "cell_type": "code",
   "execution_count": 18,
   "metadata": {},
   "outputs": [],
   "source": []
  },
  {
   "cell_type": "code",
   "execution_count": 20,
   "metadata": {},
   "outputs": [
    {
     "name": "stdout",
     "output_type": "stream",
     "text": [
      "eyr:1972 is valid 0\n",
      "cid:100 is valid 1\n",
      "hcl:#18171d is valid 1\n",
      "ecl:amb is valid 1\n",
      "hgt:170 is valid 0\n",
      "pid:186cm is valid 0\n",
      "iyr:2018 is valid 1\n",
      "byr:1926 is valid 1\n"
     ]
    }
   ],
   "source": []
  }
 ],
 "metadata": {
  "kernelspec": {
   "display_name": "aoc",
   "language": "python",
   "name": "aoc"
  },
  "language_info": {
   "codemirror_mode": {
    "name": "ipython",
    "version": 3
   },
   "file_extension": ".py",
   "mimetype": "text/x-python",
   "name": "python",
   "nbconvert_exporter": "python",
   "pygments_lexer": "ipython3",
   "version": "3.8.0"
  }
 },
 "nbformat": 4,
 "nbformat_minor": 4
}
